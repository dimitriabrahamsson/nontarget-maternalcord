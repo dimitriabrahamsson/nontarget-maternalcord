{
 "cells": [
  {
   "cell_type": "code",
   "execution_count": 19,
   "metadata": {},
   "outputs": [],
   "source": [
    "import pandas as pd\n",
    "import numpy as np"
   ]
  },
  {
   "cell_type": "code",
   "execution_count": 20,
   "metadata": {},
   "outputs": [],
   "source": [
    "df1 = pd.read_csv('R01_150_1_pos_CleanFnaBaC.csv')\n",
    "df2 = pd.read_csv('R01_150_1_neg_CleanFnaBaC.csv')\n",
    "df3 = pd.read_csv('R01_150_2_pos_CleanFnaBaC.csv')\n",
    "df4 = pd.read_csv('R01_150_2_neg_CleanFnaBaC.csv')"
   ]
  },
  {
   "cell_type": "code",
   "execution_count": 3,
   "metadata": {},
   "outputs": [],
   "source": [
    "# add an index to all isomer groups\n",
    "df1['Mass_round'] = np.round(df1['Mass'], 2)\n",
    "df1 = df1.sort_values(by=['Formula','Retention Time'])\n",
    "df1 = df1.reset_index(drop=True)\n",
    "df1['used_for_sorting'] = df1.index\n",
    "df1['Mass_round'] = df1['Mass_round'].astype(str)\n",
    "df1['rank'] = df1.groupby('Mass_round')['used_for_sorting'] \\\n",
    "    .rank(ascending = True, method = 'first')\n",
    "\n",
    "df1['iso_id'] = df1['Mass_round'] + '_' + df1['rank'].astype(str)"
   ]
  },
  {
   "cell_type": "code",
   "execution_count": 4,
   "metadata": {},
   "outputs": [],
   "source": [
    "# add an index to all isomer groups\n",
    "df3['Mass_round'] = np.round(df3['Mass'], 2)\n",
    "df3 = df3.sort_values(by=['Mass_round','Retention Time'])\n",
    "df3 = df3.reset_index(drop=True)\n",
    "df3['used_for_sorting'] = df3.index\n",
    "df3['Mass_round'] = df3['Mass_round'].astype(str)\n",
    "df3['rank'] = df3.groupby('Mass_round')['used_for_sorting'] \\\n",
    "    .rank(ascending = True, method = 'first')\n",
    "\n",
    "df3['iso_id'] = df3['Mass_round'] + '_' + df3['rank'].astype(str)"
   ]
  },
  {
   "cell_type": "code",
   "execution_count": 5,
   "metadata": {},
   "outputs": [],
   "source": [
    "datapos = pd.merge(df1, df3, on='iso_id', how='inner', suffixes=('_s1','_s2'))"
   ]
  },
  {
   "cell_type": "code",
   "execution_count": 6,
   "metadata": {},
   "outputs": [],
   "source": [
    "# add an index to all isomer groups\n",
    "df2['Mass_round'] = np.round(df2['Mass'], 2)\n",
    "df2 = df2.sort_values(by=['Mass_round','Retention Time'])\n",
    "df2 = df2.reset_index(drop=True)\n",
    "df2['used_for_sorting'] = df2.index\n",
    "df2['Mass_round'] = df2['Mass_round'].astype(str)\n",
    "df2['rank'] = df2.groupby('Mass_round')['used_for_sorting'] \\\n",
    "    .rank(ascending = True, method = 'first')\n",
    "\n",
    "df2['iso_id'] = df2['Mass_round'] + '_' + df2['rank'].astype(str)"
   ]
  },
  {
   "cell_type": "code",
   "execution_count": 7,
   "metadata": {},
   "outputs": [],
   "source": [
    "# add an index to all isomer groups\n",
    "df4['Mass_round'] = np.round(df4['Mass'], 2)\n",
    "df4 = df4.sort_values(by=['Mass_round','Retention Time'])\n",
    "df4 = df4.reset_index(drop=True)\n",
    "df4['used_for_sorting'] = df4.index\n",
    "df4['Mass_round'] = df4['Mass_round'].astype(str)\n",
    "df4['rank'] = df4.groupby('Mass_round')['used_for_sorting'] \\\n",
    "    .rank(ascending = True, method = 'first')\n",
    "\n",
    "df4['iso_id'] = df4['Mass_round'] + '_' + df4['rank'].astype(str)"
   ]
  },
  {
   "cell_type": "code",
   "execution_count": 8,
   "metadata": {},
   "outputs": [],
   "source": [
    "dataneg = pd.merge(df2, df4, on='iso_id', how='inner', suffixes=('_s1','_s2'))"
   ]
  },
  {
   "cell_type": "code",
   "execution_count": 9,
   "metadata": {},
   "outputs": [],
   "source": [
    "datapos['RT_diff'] = np.absolute(datapos['Retention Time_s1'] - datapos['Retention Time_s2'])"
   ]
  },
  {
   "cell_type": "code",
   "execution_count": 10,
   "metadata": {},
   "outputs": [
    {
     "data": {
      "text/plain": [
       "<matplotlib.axes._subplots.AxesSubplot at 0x7fb026fc4b10>"
      ]
     },
     "execution_count": 10,
     "metadata": {},
     "output_type": "execute_result"
    },
    {
     "data": {
      "image/png": "[encoded data removed]",
      "text/plain": [
       "<Figure size 432x288 with 1 Axes>"
      ]
     },
     "metadata": {
      "needs_background": "light"
     },
     "output_type": "display_data"
    }
   ],
   "source": [
    "import seaborn as sns\n",
    "import matplotlib.pyplot as plt\n",
    "from scipy import stats\n",
    "\n",
    "x = datapos['RT_diff']\n",
    "sns.distplot(x)"
   ]
  },
  {
   "cell_type": "code",
   "execution_count": 11,
   "metadata": {},
   "outputs": [],
   "source": [
    "datapos['RF_flag'] = np.where(datapos['RT_diff'] > 1, 1, 0)"
   ]
  },
  {
   "cell_type": "code",
   "execution_count": 12,
   "metadata": {},
   "outputs": [
    {
     "data": {
      "text/plain": [
       "153"
      ]
     },
     "execution_count": 12,
     "metadata": {},
     "output_type": "execute_result"
    }
   ],
   "source": [
    "datapos['RF_flag'].sum()"
   ]
  },
  {
   "cell_type": "code",
   "execution_count": 13,
   "metadata": {},
   "outputs": [],
   "source": [
    "datapos.to_csv('datapos_clean.csv')\n",
    "dataneg.to_csv('dataneg_clean.csv')"
   ]
  },
  {
   "cell_type": "code",
   "execution_count": 14,
   "metadata": {},
   "outputs": [],
   "source": [
    "dfISpos = pd.read_csv('IS_pos_s12.csv')\n",
    "dfISneg = pd.read_csv('IS_neg_s12.csv')"
   ]
  },
  {
   "cell_type": "code",
   "execution_count": 15,
   "metadata": {},
   "outputs": [],
   "source": [
    "datapos = datapos.set_index('chem_id_s1')\n",
    "dataneg = dataneg.set_index('chem_id_s1')"
   ]
  },
  {
   "cell_type": "code",
   "execution_count": 16,
   "metadata": {},
   "outputs": [],
   "source": [
    "df_names = dfISpos['Sample Name']\n",
    "datapos = datapos.loc[:, datapos.columns.isin(df_names)]"
   ]
  },
  {
   "cell_type": "code",
   "execution_count": 17,
   "metadata": {},
   "outputs": [],
   "source": [
    "df_names = dfISneg['Sample Name']\n",
    "dataneg = dataneg.loc[:, dataneg.columns.isin(df_names)]"
   ]
  },
  {
   "cell_type": "code",
   "execution_count": 18,
   "metadata": {},
   "outputs": [],
   "source": [
    "datapos.to_csv('dataposR_clean.csv')\n",
    "dataneg.to_csv('datanegR_clean.csv')"
   ]
  },
  {
   "cell_type": "code",
   "execution_count": null,
   "metadata": {},
   "outputs": [],
   "source": []
  }
 ],
 "metadata": {
  "kernelspec": {
   "display_name": "Python 3",
   "language": "python",
   "name": "python3"
  },
  "language_info": {
   "codemirror_mode": {
    "name": "ipython",
    "version": 3
   },
   "file_extension": ".py",
   "mimetype": "text/x-python",
   "name": "python",
   "nbconvert_exporter": "python",
   "pygments_lexer": "ipython3",
   "version": "3.7.7"
  }
 },
 "nbformat": 4,
 "nbformat_minor": 4
}
