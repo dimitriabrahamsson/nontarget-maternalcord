{
 "cells": [
  {
   "cell_type": "code",
   "execution_count": 1,
   "metadata": {},
   "outputs": [],
   "source": [
    "import pandas as pd\n",
    "import numpy as np\n",
    "import seaborn as sns\n",
    "import matplotlib.pyplot as plt\n",
    "from scipy import stats"
   ]
  },
  {
   "cell_type": "code",
   "execution_count": 2,
   "metadata": {},
   "outputs": [],
   "source": [
    "df1 = pd.read_csv('R01_150_1_pos_Clean.csv')\n",
    "df2 = pd.read_csv('R01_150_1_neg_Clean.csv')\n",
    "df3 = pd.read_csv('R01_150_2_pos_Clean.csv')\n",
    "df4 = pd.read_csv('R01_150_2_neg_Clean.csv')"
   ]
  },
  {
   "cell_type": "code",
   "execution_count": 3,
   "metadata": {},
   "outputs": [],
   "source": [
    "df1a = df1.loc[:, 'chem_id']\n",
    "df1b = df1.loc[:, 'BB02375-M331_01':'BB02674-C479_02']\n",
    "df1c = df1.loc[:, 'Compound':'DF of samples']"
   ]
  },
  {
   "cell_type": "code",
   "execution_count": 4,
   "metadata": {},
   "outputs": [],
   "source": [
    "df1bL = np.log10(df1b)"
   ]
  },
  {
   "cell_type": "code",
   "execution_count": 6,
   "metadata": {},
   "outputs": [
    {
     "data": {
      "text/html": [
       "<div>\n",
       "<style scoped>\n",
       "    .dataframe tbody tr th:only-of-type {\n",
       "        vertical-align: middle;\n",
       "    }\n",
       "\n",
       "    .dataframe tbody tr th {\n",
       "        vertical-align: top;\n",
       "    }\n",
       "\n",
       "    .dataframe thead th {\n",
       "        text-align: right;\n",
       "    }\n",
       "</style>\n",
       "<table border=\"1\" class=\"dataframe\">\n",
       "  <thead>\n",
       "    <tr style=\"text-align: right;\">\n",
       "      <th></th>\n",
       "      <th>BB02375-M331_01</th>\n",
       "      <th>BB02375-M331_02</th>\n",
       "      <th>BB02376-M332_01</th>\n",
       "      <th>BB02376-M332_02</th>\n",
       "      <th>BB02377-M317_01</th>\n",
       "      <th>BB02377-M317_02</th>\n",
       "      <th>BB02378-M524_01</th>\n",
       "      <th>BB02378-M524_02</th>\n",
       "      <th>BB02379-M102_01</th>\n",
       "      <th>BB02379-M102_02</th>\n",
       "      <th>...</th>\n",
       "      <th>BB02670-C485_01</th>\n",
       "      <th>BB02670-C485_02</th>\n",
       "      <th>BB02671-C466_01</th>\n",
       "      <th>BB02671-C466_02</th>\n",
       "      <th>BB02672-C600_01</th>\n",
       "      <th>BB02672-C600_02</th>\n",
       "      <th>BB02673-C488_01</th>\n",
       "      <th>BB02673-C488_02</th>\n",
       "      <th>BB02674-C479_01</th>\n",
       "      <th>BB02674-C479_02</th>\n",
       "    </tr>\n",
       "  </thead>\n",
       "  <tbody>\n",
       "    <tr>\n",
       "      <th>0</th>\n",
       "      <td>5.879131</td>\n",
       "      <td>5.487403</td>\n",
       "      <td>5.500029</td>\n",
       "      <td>5.768299</td>\n",
       "      <td>5.501288</td>\n",
       "      <td>5.138252</td>\n",
       "      <td>5.692682</td>\n",
       "      <td>5.818764</td>\n",
       "      <td>5.355291</td>\n",
       "      <td>5.467133</td>\n",
       "      <td>...</td>\n",
       "      <td>NaN</td>\n",
       "      <td>NaN</td>\n",
       "      <td>NaN</td>\n",
       "      <td>NaN</td>\n",
       "      <td>NaN</td>\n",
       "      <td>NaN</td>\n",
       "      <td>NaN</td>\n",
       "      <td>4.828692</td>\n",
       "      <td>NaN</td>\n",
       "      <td>NaN</td>\n",
       "    </tr>\n",
       "    <tr>\n",
       "      <th>1</th>\n",
       "      <td>5.308680</td>\n",
       "      <td>5.452726</td>\n",
       "      <td>5.406329</td>\n",
       "      <td>5.357020</td>\n",
       "      <td>5.371546</td>\n",
       "      <td>5.112152</td>\n",
       "      <td>5.223810</td>\n",
       "      <td>5.432820</td>\n",
       "      <td>5.065184</td>\n",
       "      <td>5.318789</td>\n",
       "      <td>...</td>\n",
       "      <td>4.772916</td>\n",
       "      <td>4.879377</td>\n",
       "      <td>NaN</td>\n",
       "      <td>NaN</td>\n",
       "      <td>NaN</td>\n",
       "      <td>NaN</td>\n",
       "      <td>NaN</td>\n",
       "      <td>4.556013</td>\n",
       "      <td>NaN</td>\n",
       "      <td>NaN</td>\n",
       "    </tr>\n",
       "    <tr>\n",
       "      <th>2</th>\n",
       "      <td>5.786411</td>\n",
       "      <td>5.914343</td>\n",
       "      <td>5.749579</td>\n",
       "      <td>5.591169</td>\n",
       "      <td>6.162704</td>\n",
       "      <td>6.119801</td>\n",
       "      <td>6.149400</td>\n",
       "      <td>5.109717</td>\n",
       "      <td>6.293217</td>\n",
       "      <td>6.058390</td>\n",
       "      <td>...</td>\n",
       "      <td>5.560823</td>\n",
       "      <td>5.571265</td>\n",
       "      <td>5.552856</td>\n",
       "      <td>5.013579</td>\n",
       "      <td>5.512157</td>\n",
       "      <td>5.514445</td>\n",
       "      <td>5.735571</td>\n",
       "      <td>5.827803</td>\n",
       "      <td>5.388170</td>\n",
       "      <td>4.727167</td>\n",
       "    </tr>\n",
       "    <tr>\n",
       "      <th>3</th>\n",
       "      <td>NaN</td>\n",
       "      <td>NaN</td>\n",
       "      <td>NaN</td>\n",
       "      <td>NaN</td>\n",
       "      <td>NaN</td>\n",
       "      <td>NaN</td>\n",
       "      <td>NaN</td>\n",
       "      <td>NaN</td>\n",
       "      <td>NaN</td>\n",
       "      <td>NaN</td>\n",
       "      <td>...</td>\n",
       "      <td>5.504653</td>\n",
       "      <td>5.552222</td>\n",
       "      <td>4.964321</td>\n",
       "      <td>5.683351</td>\n",
       "      <td>5.361650</td>\n",
       "      <td>5.276829</td>\n",
       "      <td>5.287165</td>\n",
       "      <td>5.056863</td>\n",
       "      <td>5.416819</td>\n",
       "      <td>4.219165</td>\n",
       "    </tr>\n",
       "    <tr>\n",
       "      <th>4</th>\n",
       "      <td>5.002438</td>\n",
       "      <td>5.067302</td>\n",
       "      <td>5.037191</td>\n",
       "      <td>4.869361</td>\n",
       "      <td>4.173390</td>\n",
       "      <td>NaN</td>\n",
       "      <td>NaN</td>\n",
       "      <td>NaN</td>\n",
       "      <td>NaN</td>\n",
       "      <td>NaN</td>\n",
       "      <td>...</td>\n",
       "      <td>NaN</td>\n",
       "      <td>NaN</td>\n",
       "      <td>NaN</td>\n",
       "      <td>NaN</td>\n",
       "      <td>NaN</td>\n",
       "      <td>NaN</td>\n",
       "      <td>NaN</td>\n",
       "      <td>NaN</td>\n",
       "      <td>NaN</td>\n",
       "      <td>NaN</td>\n",
       "    </tr>\n",
       "  </tbody>\n",
       "</table>\n",
       "<p>5 rows × 592 columns</p>\n",
       "</div>"
      ],
      "text/plain": [
       "   BB02375-M331_01  BB02375-M331_02  BB02376-M332_01  BB02376-M332_02  \\\n",
       "0         5.879131         5.487403         5.500029         5.768299   \n",
       "1         5.308680         5.452726         5.406329         5.357020   \n",
       "2         5.786411         5.914343         5.749579         5.591169   \n",
       "3              NaN              NaN              NaN              NaN   \n",
       "4         5.002438         5.067302         5.037191         4.869361   \n",
       "\n",
       "   BB02377-M317_01  BB02377-M317_02  BB02378-M524_01  BB02378-M524_02  \\\n",
       "0         5.501288         5.138252         5.692682         5.818764   \n",
       "1         5.371546         5.112152         5.223810         5.432820   \n",
       "2         6.162704         6.119801         6.149400         5.109717   \n",
       "3              NaN              NaN              NaN              NaN   \n",
       "4         4.173390              NaN              NaN              NaN   \n",
       "\n",
       "   BB02379-M102_01  BB02379-M102_02  ...  BB02670-C485_01  BB02670-C485_02  \\\n",
       "0         5.355291         5.467133  ...              NaN              NaN   \n",
       "1         5.065184         5.318789  ...         4.772916         4.879377   \n",
       "2         6.293217         6.058390  ...         5.560823         5.571265   \n",
       "3              NaN              NaN  ...         5.504653         5.552222   \n",
       "4              NaN              NaN  ...              NaN              NaN   \n",
       "\n",
       "   BB02671-C466_01  BB02671-C466_02  BB02672-C600_01  BB02672-C600_02  \\\n",
       "0              NaN              NaN              NaN              NaN   \n",
       "1              NaN              NaN              NaN              NaN   \n",
       "2         5.552856         5.013579         5.512157         5.514445   \n",
       "3         4.964321         5.683351         5.361650         5.276829   \n",
       "4              NaN              NaN              NaN              NaN   \n",
       "\n",
       "   BB02673-C488_01  BB02673-C488_02  BB02674-C479_01  BB02674-C479_02  \n",
       "0              NaN         4.828692              NaN              NaN  \n",
       "1              NaN         4.556013              NaN              NaN  \n",
       "2         5.735571         5.827803         5.388170         4.727167  \n",
       "3         5.287165         5.056863         5.416819         4.219165  \n",
       "4              NaN              NaN              NaN              NaN  \n",
       "\n",
       "[5 rows x 592 columns]"
      ]
     },
     "execution_count": 6,
     "metadata": {},
     "output_type": "execute_result"
    }
   ],
   "source": [
    "df1bL.head()"
   ]
  },
  {
   "cell_type": "code",
   "execution_count": 5,
   "metadata": {},
   "outputs": [],
   "source": [
    "def fillNaN_with_unifrand(df):\n",
    "    lower, upper = 0, df.min()\n",
    "    a = df.values\n",
    "    m = np.isnan(a) # mask of NaNs\n",
    "    mu, sigma = df.min(), df.std()\n",
    "    a[m] = stats.truncnorm.rvs(\n",
    "          (lower-mu)/sigma,(upper-mu)/sigma,loc=mu,scale=sigma,size=m.sum())\n",
    "    return df"
   ]
  },
  {
   "cell_type": "code",
   "execution_count": 6,
   "metadata": {},
   "outputs": [],
   "source": [
    "df1bLmod = df1bL.apply(fillNaN_with_unifrand)"
   ]
  },
  {
   "cell_type": "code",
   "execution_count": 7,
   "metadata": {},
   "outputs": [],
   "source": [
    "df1bLmod = 10**df1bLmod\n",
    "df1 = pd.concat([df1a, df1bLmod, df1c], axis=1)"
   ]
  },
  {
   "cell_type": "code",
   "execution_count": 8,
   "metadata": {},
   "outputs": [],
   "source": [
    "df1.to_csv('R01_150_1_pos_CleanFna.csv')"
   ]
  },
  {
   "cell_type": "code",
   "execution_count": 9,
   "metadata": {},
   "outputs": [],
   "source": [
    "df2a = df2.loc[:, 'chem_id']\n",
    "df2b = df2.loc[:, 'BB02375-M331_01':'BB02674-C479_02']\n",
    "df2c = df2.loc[:, 'Compound':'DF of samples']"
   ]
  },
  {
   "cell_type": "code",
   "execution_count": 10,
   "metadata": {},
   "outputs": [],
   "source": [
    "df2bL = np.log10(df2b)"
   ]
  },
  {
   "cell_type": "code",
   "execution_count": 11,
   "metadata": {},
   "outputs": [],
   "source": [
    "df2bLmod = df2bL.apply(fillNaN_with_unifrand)"
   ]
  },
  {
   "cell_type": "code",
   "execution_count": 12,
   "metadata": {},
   "outputs": [],
   "source": [
    "df2bLmod = 10**df2bLmod\n",
    "df2 = pd.concat([df2a, df2bLmod, df2c], axis=1)"
   ]
  },
  {
   "cell_type": "code",
   "execution_count": 13,
   "metadata": {},
   "outputs": [],
   "source": [
    "df2.to_csv('R01_150_1_neg_CleanFna.csv')"
   ]
  },
  {
   "cell_type": "code",
   "execution_count": 14,
   "metadata": {},
   "outputs": [],
   "source": [
    "df3a = df3.loc[:, 'chem_id']\n",
    "df3b = df3.loc[:, 'BC01006-651C_01':'BC01537-845C_02']\n",
    "df3c = df3.loc[:, 'Compound':'DF of samples']"
   ]
  },
  {
   "cell_type": "code",
   "execution_count": 15,
   "metadata": {},
   "outputs": [],
   "source": [
    "df3bL = np.log10(df3b)"
   ]
  },
  {
   "cell_type": "code",
   "execution_count": 16,
   "metadata": {},
   "outputs": [],
   "source": [
    "df3bLmod = df3bL.apply(fillNaN_with_unifrand)"
   ]
  },
  {
   "cell_type": "code",
   "execution_count": 17,
   "metadata": {},
   "outputs": [],
   "source": [
    "df3bLmod = 10**df3bLmod\n",
    "df3 = pd.concat([df3a, df3bLmod, df3c], axis=1)"
   ]
  },
  {
   "cell_type": "code",
   "execution_count": 18,
   "metadata": {},
   "outputs": [],
   "source": [
    "df3.to_csv('R01_150_2_pos_CleanFna.csv')"
   ]
  },
  {
   "cell_type": "code",
   "execution_count": 19,
   "metadata": {},
   "outputs": [],
   "source": [
    "df4a = df4.loc[:, 'chem_id']\n",
    "df4b = df4.loc[:, 'BC01006-651C_01':'BC01537-845C_02']\n",
    "df4c = df4.loc[:, 'Compound':'DF of samples']"
   ]
  },
  {
   "cell_type": "code",
   "execution_count": 20,
   "metadata": {},
   "outputs": [],
   "source": [
    "df4bL = np.log10(df4b)"
   ]
  },
  {
   "cell_type": "code",
   "execution_count": 21,
   "metadata": {},
   "outputs": [],
   "source": [
    "df4bLmod = df4bL.apply(fillNaN_with_unifrand)"
   ]
  },
  {
   "cell_type": "code",
   "execution_count": 22,
   "metadata": {},
   "outputs": [],
   "source": [
    "df4bLmod = 10**df4bLmod\n",
    "df4 = pd.concat([df4a, df4bLmod, df4c], axis=1)"
   ]
  },
  {
   "cell_type": "code",
   "execution_count": 23,
   "metadata": {},
   "outputs": [],
   "source": [
    "df4.to_csv('R01_150_2_neg_CleanFna.csv')"
   ]
  },
  {
   "cell_type": "code",
   "execution_count": null,
   "metadata": {},
   "outputs": [],
   "source": []
  }
 ],
 "metadata": {
  "kernelspec": {
   "display_name": "Python 3",
   "language": "python",
   "name": "python3"
  },
  "language_info": {
   "codemirror_mode": {
    "name": "ipython",
    "version": 3
   },
   "file_extension": ".py",
   "mimetype": "text/x-python",
   "name": "python",
   "nbconvert_exporter": "python",
   "pygments_lexer": "ipython3",
   "version": "3.7.7"
  }
 },
 "nbformat": 4,
 "nbformat_minor": 4
}
